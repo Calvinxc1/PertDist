{
 "cells": [
  {
   "cell_type": "code",
   "execution_count": null,
   "metadata": {},
   "outputs": [],
   "source": [
    "import pandas as pd\n",
    "import numpy as np\n",
    "from scipy.special import beta, betainc\n",
    "from scipy.stats import beta as beta_dist\n",
    "from scipy.stats import norm as norm_dist"
   ]
  },
  {
   "cell_type": "code",
   "execution_count": null,
   "metadata": {},
   "outputs": [],
   "source": [
    "class PERT:\n",
    "    def __init__(self, min_val, ml_val, max_val, lamb=4):\n",
    "        self.a = min_val\n",
    "        self.b = ml_val\n",
    "        self.c = max_val\n",
    "        self.lamb = lamb\n",
    "        \n",
    "        self.build()\n",
    "        \n",
    "    def build(self):\n",
    "        self.alpha = 1 + (self.lamb * ((self.b-self.a) / (self.c-self.a)))\n",
    "        self.beta = 1 + (self.lamb * ((self.c-self.b) / (self.c-self.a)))\n",
    "        \n",
    "        self.alpha.fillna(3, inplace=True)\n",
    "        self.beta.fillna(3, inplace=True)        \n",
    "        \n",
    "        self.mean = (self.a + (self.lamb*self.b) + self.c) / (2+self.lamb)\n",
    "        self.var = (((self.mean-self.a) * (self.c-self.mean)) / (self.lamb+3)).clip(0, np.inf)\n",
    "        self.skew = (\n",
    "            2 * (self.beta - self.alpha) * np.sqrt(self.alpha + self.beta + 1)\n",
    "        ) / (\n",
    "            (self.alpha + self.beta + 2) * np.sqrt(self.alpha * self.beta)\n",
    "        )\n",
    "        self.kurt = (\n",
    "            (self.lamb+2) * ((\n",
    "                ((self.alpha - self.beta)**2) * (self.alpha + self.beta + 1)\n",
    "            ) + (\n",
    "                self.alpha * self.beta * (self.alpha + self.beta + 2)\n",
    "            ))\n",
    "        ) / (\n",
    "            self.alpha * self.beta * (self.alpha + self.beta + 2) * (self.alpha + self.beta + 3)\n",
    "        )\n",
    "        \n",
    "    @property\n",
    "    def range(self):\n",
    "        return self.c - self.a\n",
    "        \n",
    "    def ci(self, z):\n",
    "        alpha = norm_dist.cdf(z) - norm_dist.cdf(-z)\n",
    "        interval = beta_dist.interval(alpha, self.alpha, self.beta)\n",
    "        interval = pd.concat([(val * self.range) + self.a for val in interval], axis=1)\n",
    "        interval.columns = ('low', 'high')\n",
    "        return interval\n",
    "    \n",
    "    def pdf(self, val):\n",
    "        x = ((val - self.a) / self.range).clip(0,1)\n",
    "        pdf_val = beta_dist.pdf(x, self.alpha, self.beta)\n",
    "        return pdf_val\n",
    "    \n",
    "    def cdf(self, val):\n",
    "        x = ((val - self.a) / self.range).clip(0,1)\n",
    "        cdf_val = beta_dist.cdf(x, self.alpha, self.beta)\n",
    "        return cdf_val"
   ]
  }
 ],
 "metadata": {
  "kernelspec": {
   "display_name": "Python 3",
   "language": "python",
   "name": "python3"
  },
  "language_info": {
   "codemirror_mode": {
    "name": "ipython",
    "version": 3
   },
   "file_extension": ".py",
   "mimetype": "text/x-python",
   "name": "python",
   "nbconvert_exporter": "python",
   "pygments_lexer": "ipython3",
   "version": "3.7.3"
  }
 },
 "nbformat": 4,
 "nbformat_minor": 4
}
